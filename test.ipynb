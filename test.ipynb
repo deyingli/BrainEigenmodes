{
 "cells": [
  {
   "cell_type": "code",
   "execution_count": 1,
   "metadata": {},
   "outputs": [
    {
     "name": "stdout",
     "output_type": "stream",
     "text": [
      "(32492, 200)\n"
     ]
    }
   ],
   "source": [
    "import numpy as np\n",
    "\n",
    "emode = np.loadtxt('./data/template_eigenmodes/fsLR_32k_midthickness-lh_emode_200.txt')\n",
    "print(emode.shape)"
   ]
  },
  {
   "attachments": {},
   "cell_type": "markdown",
   "metadata": {},
   "source": [
    "# 可视化所有 geometry mode from Nature2023"
   ]
  },
  {
   "cell_type": "code",
   "execution_count": null,
   "metadata": {},
   "outputs": [],
   "source": [
    "from brainspace.plotting import plot_hemispheres\n",
    "from brainspace.datasets import load_conte69\n",
    "from brainspace.mesh.mesh_io import read_surface\n",
    "import nibabel as nib\n",
    "import numpy as np\n",
    "from matplotlib.colors import LinearSegmentedColormap\n",
    "\n",
    "import os\n",
    "from tqdm import tqdm\n",
    "import IPython\n",
    "from IPython.core.display import Image as image\n",
    "from PIL import Image\n",
    "\n",
    "surf_lh, surf_rh = load_conte69()\n",
    "surf_lh2 = read_surface('/Users/deyingli/Documents/code/Grad_2022/data_tmp/support_data/human/S1200.L.midthickness_MSMAll.32k_fs_LR.surf.gii')\n",
    "surf_rh2 = read_surface('/Users/deyingli/Documents/code/Grad_2022/data_tmp/support_data/human/S1200.R.midthickness_MSMAll.32k_fs_LR.surf.gii')\n",
    "\n",
    "hroi_L = nib.load('/Users/deyingli/Documents/code/Grad_2022/data_tmp/support_data/100307.L.atlasroi.32k_fs_LR.shape.gii')\n",
    "index_L = hroi_L.agg_data()\n",
    "hroi_R = nib.load('/Users/deyingli/Documents/code/Grad_2022/data_tmp/support_data/100307.R.atlasroi.32k_fs_LR.shape.gii')\n",
    "index_R = hroi_R.agg_data()\n",
    "\n",
    "emode_L = np.loadtxt('./data/template_eigenmodes/fsLR_32k_midthickness-lh_emode_200.txt')\n",
    "emode_R = np.loadtxt('./data/template_eigenmodes/fsLR_32k_midthickness-rh_emode_200.txt')\n",
    "\n",
    "for modei in tqdm(range(200)):\n",
    "    # print(f'mode{modei}')\n",
    "    data_L = np.squeeze(emode_L[:, modei]) # (32492,)\n",
    "    data_R = np.squeeze(emode_R[:, modei]) # (32492,)\n",
    "    data_L[index_L==0] = np.nan\n",
    "    data_R[index_R==0] = np.nan\n",
    "    data = np.concatenate((data_L, data_R), axis=0)\n",
    "\n",
    "    obj = plot_hemispheres(surf_lh2, surf_rh2, data, color_bar=True, label_text=[f'mode{modei+1}'], nan_color=(0.6,0.6,0.6,1), background=(1,1,1), embed_nb=True, cmap='coolwarm', transparent_bg=True, size=(2000,500)) # viridis\n",
    "    with open(os.path.join(f'/Users/deyingli/Documents/code/BrainEigenmodes/figures/geometry_mode{modei+1}.png'), 'wb') as png:\n",
    "        png.write(obj.data)"
   ]
  },
  {
   "attachments": {},
   "cell_type": "markdown",
   "metadata": {},
   "source": [
    "# 读取 nature 公开的 task z值"
   ]
  },
  {
   "cell_type": "code",
   "execution_count": 8,
   "metadata": {},
   "outputs": [
    {
     "name": "stderr",
     "output_type": "stream",
     "text": [
      "/Users/deyingli/miniconda3/envs/pytorch/lib/python3.8/site-packages/brainspace-0.1.3-py3.8.egg/brainspace/plotting/surface_plotting.py:427: RuntimeWarning: Running plot_hemispheres without a display may result in a crash. For a workaround please consult https://github.com/MICA-MNI/BrainSpace/issues/66. To suppress this warning set suppress_warnings=True.\n",
      "  warnings.warn(\n",
      "/Users/deyingli/miniconda3/envs/pytorch/lib/python3.8/site-packages/brainspace-0.1.3-py3.8.egg/brainspace/plotting/base.py:292: UserWarning: Support for interactive mode is only provided for a single renderer: 'nrow=1' and 'ncol=1'. Setting 'interactive=False'\n",
      "  warnings.warn(\"Support for interactive mode is only provided for \"\n"
     ]
    }
   ],
   "source": [
    "from brainspace.plotting import plot_hemispheres\n",
    "from brainspace.datasets import load_conte69\n",
    "from brainspace.mesh.mesh_io import read_surface\n",
    "import nibabel as nib\n",
    "import numpy as np\n",
    "import h5py\n",
    "from matplotlib.colors import LinearSegmentedColormap\n",
    "\n",
    "import os\n",
    "from tqdm import tqdm\n",
    "import IPython\n",
    "from IPython.core.display import Image as image\n",
    "from PIL import Image\n",
    "\n",
    "surf_lh, surf_rh = load_conte69()\n",
    "surf_lh2 = read_surface('/Users/deyingli/Documents/code/Grad_2022/data_tmp/support_data/human/S1200.L.midthickness_MSMAll.32k_fs_LR.surf.gii')\n",
    "surf_rh2 = read_surface('/Users/deyingli/Documents/code/Grad_2022/data_tmp/support_data/human/S1200.R.midthickness_MSMAll.32k_fs_LR.surf.gii')\n",
    "\n",
    "hroi_L = nib.load('/Users/deyingli/Documents/code/Grad_2022/data_tmp/support_data/100307.L.atlasroi.32k_fs_LR.shape.gii')\n",
    "index_L = hroi_L.agg_data()\n",
    "hroi_R = nib.load('/Users/deyingli/Documents/code/Grad_2022/data_tmp/support_data/100307.R.atlasroi.32k_fs_LR.shape.gii')\n",
    "index_R = hroi_R.agg_data()\n",
    "\n",
    "emode_L = np.loadtxt('./data/template_eigenmodes/fsLR_32k_midthickness-lh_emode_200.txt')\n",
    "emode_R = np.loadtxt('./data/template_eigenmodes/fsLR_32k_midthickness-rh_emode_200.txt')\n",
    "\n",
    "y = h5py.File('./data/examples/subject_tfMRI_zstat-lh.mat')\n",
    "y = np.squeeze(y['zstat']) # (32492,)\n",
    "y[index_L==0] = np.nan\n",
    "data = np.concatenate((y, np.zeros(32492)), axis=0)\n",
    "\n",
    "obj = plot_hemispheres(surf_lh2, surf_rh2, data, color_bar=True, label_text=['subject_tfMRI_zstat-lh'], nan_color=(0.6,0.6,0.6,1), background=(1,1,1), embed_nb=True, cmap='seismic', transparent_bg=True, size=(2000,500)) # viridis\n",
    "with open(os.path.join(f'/Users/deyingli/Documents/code/BrainEigenmodes/figures/subject_tfMRI_zstat-lh.png'), 'wb') as png:\n",
    "    png.write(obj.data)"
   ]
  },
  {
   "cell_type": "code",
   "execution_count": 2,
   "metadata": {},
   "outputs": [
    {
     "name": "stdout",
     "output_type": "stream",
     "text": [
      "(29696, 200) (29696, 1)\n",
      "the accuracy: 0.6415398834634366\n"
     ]
    },
    {
     "data": {
      "image/png": "[encoded data removed]",
      "text/plain": [
       "<Figure size 360x360 with 1 Axes>"
      ]
     },
     "metadata": {},
     "output_type": "display_data"
    }
   ],
   "source": [
    "import h5py\n",
    "import numpy as np\n",
    "import matplotlib.pyplot as plt\n",
    "import statsmodels.api as sm\n",
    "\n",
    "x = np.loadtxt('./data/template_eigenmodes/fsLR_32k_midthickness-lh_emode_200.txt') # (32492, 200)\n",
    "\n",
    "y = h5py.File('./data/examples/subject_tfMRI_zstat-lh.mat')\n",
    "y = np.squeeze(y['zstat'])[:, np.newaxis] # (32492,1)\n",
    "\n",
    "# remove the medial wall\n",
    "dirc_L = '/Users/deyingli/Documents/code/Atlas/metric_index_L.txt'\n",
    "select_ind_L = np.loadtxt( dirc_L ).astype(int)\n",
    "dirc_R = '/Users/deyingli/Documents/code/Atlas/metric_index_R.txt'\n",
    "select_ind_R = np.loadtxt( dirc_R ).astype(int)\n",
    "\n",
    "x = x[select_ind_L,:]\n",
    "y = y[select_ind_L,:]\n",
    "print(x.shape, y.shape)\n",
    "\n",
    "# GLM model\n",
    "result = np.zeros((y.shape[1], x.shape[1]))\n",
    "for v in range(x.shape[1]):\n",
    "    if v==0:\n",
    "        continue\n",
    "    if np.sum(x[:,v])==0:\n",
    "        result[:,v] = result[:,v-1]\n",
    "    else:\n",
    "        glm = sm.GLM(x[:,v], y)\n",
    "        glm_results = glm.fit()\n",
    "        result[:,v] = glm_results.params\n",
    "\n",
    "# check the results\n",
    "print(f'the accuracy: {np.corrcoef(np.squeeze(y), np.squeeze(np.dot(x,result.T)))[0,1]}')\n",
    "\n",
    "plt.subplots(figsize = (5, 5))\n",
    "plt.scatter(np.squeeze(y),np.squeeze(np.dot(x,result.T)), c='black', s=2)\n",
    "plt.xticks([])\n",
    "plt.yticks([])\n",
    "plt.show()"
   ]
  },
  {
   "attachments": {},
   "cell_type": "markdown",
   "metadata": {},
   "source": [
    "# 使用 mode 对高斯分布噪声进行拟合：无法拟合"
   ]
  },
  {
   "cell_type": "code",
   "execution_count": 15,
   "metadata": {},
   "outputs": [
    {
     "name": "stdout",
     "output_type": "stream",
     "text": [
      "(29696, 1000) (29696, 1)\n",
      "the accuracy: 0.1713054164208387\n"
     ]
    },
    {
     "data": {
      "image/png": "[encoded data removed]",
      "text/plain": [
       "<Figure size 360x360 with 1 Axes>"
      ]
     },
     "metadata": {},
     "output_type": "display_data"
    }
   ],
   "source": [
    "import h5py\n",
    "import numpy as np\n",
    "import matplotlib.pyplot as plt\n",
    "import statsmodels.api as sm\n",
    "\n",
    "x = np.loadtxt('./data/template_eigenmodes/fsLR_32k_midthickness-lh_emode_1000.txt') # (32492, 200)\n",
    "\n",
    "y = np.random.randn(32492)\n",
    "y = y[:, np.newaxis] # (32492,1)\n",
    "\n",
    "# remove the medial wall\n",
    "dirc_L = '/Users/deyingli/Documents/code/Atlas/metric_index_L.txt'\n",
    "select_ind_L = np.loadtxt( dirc_L ).astype(int)\n",
    "dirc_R = '/Users/deyingli/Documents/code/Atlas/metric_index_R.txt'\n",
    "select_ind_R = np.loadtxt( dirc_R ).astype(int)\n",
    "\n",
    "x = x[select_ind_L,:]\n",
    "y = y[select_ind_L,:]\n",
    "print(x.shape, y.shape)\n",
    "\n",
    "# GLM model\n",
    "result = np.zeros((y.shape[1], x.shape[1]))\n",
    "for v in range(x.shape[1]):\n",
    "    if v==0:\n",
    "        continue\n",
    "    if np.sum(x[:,v])==0:\n",
    "        result[:,v] = result[:,v-1]\n",
    "    else:\n",
    "        glm = sm.GLM(x[:,v], y)\n",
    "        glm_results = glm.fit()\n",
    "        result[:,v] = glm_results.params\n",
    "\n",
    "# check the results\n",
    "print(f'the accuracy: {np.corrcoef(np.squeeze(y), np.squeeze(np.dot(x,result.T)))[0,1]}')\n",
    "\n",
    "plt.subplots(figsize = (5, 5))\n",
    "plt.scatter(np.squeeze(y),np.squeeze(np.dot(x,result.T)), c='black', s=2)\n",
    "plt.xticks([])\n",
    "plt.yticks([])\n",
    "plt.show()"
   ]
  },
  {
   "attachments": {},
   "cell_type": "markdown",
   "metadata": {},
   "source": [
    "# spin test：vertex"
   ]
  },
  {
   "cell_type": "code",
   "execution_count": 6,
   "metadata": {},
   "outputs": [],
   "source": [
    "from brainsmash.mapgen.sampled import Sampled\n",
    "from brainsmash.mapgen.memmap import txt2memmap\n",
    "\n",
    "Sur_num = 1000\n",
    "\n",
    "Sur_father = './data/spin_test'\n",
    "dist_mat_fin = f'{Sur_father}/LeftDenseGeodesicDistmat.txt'\n",
    "output_files = txt2memmap(dist_mat_fin, Sur_father, maskfile=None, delimiter=' ')\n",
    "output_files = {'distmat': f'{Sur_father}/distmat.npy',\n",
    "                'index': f'{Sur_father}/index.npy'}\n",
    "# distmat: (32492, 32492) index: (32492, 32492)\n",
    "\n",
    "# 读取 tfmri map 数据\n",
    "_ = h5py.File('./data/examples/subject_tfMRI_zstat-lh.mat')\n",
    "_ = np.squeeze(_['zstat']) # (32492,)\n",
    "tfmri_map = np.zeros(32492)\n",
    "tfmri_map[select_ind_L] = _[select_ind_L]\n",
    "np.savetxt(f'{Sur_father}/subject_tfMRI_zstat-lh.txt', X=tfmri_map, delimiter=' ')\n",
    "\n",
    "brain_map_file = f'{Sur_father}/subject_tfMRI_zstat-lh.txt'\n",
    "dist_mat_mmap = output_files['distmat']\n",
    "index_mmap = output_files['index']\n",
    "sampled = Sampled(brain_map_file, dist_mat_mmap, index_mmap)\n",
    "\n",
    "surrogates = sampled(n=1000) # (1000, 32492)\n",
    "np.save(f'{Sur_father}/subject_tfMRI_zstat_spin-lh', surrogates)"
   ]
  },
  {
   "cell_type": "code",
   "execution_count": 9,
   "metadata": {},
   "outputs": [
    {
     "name": "stderr",
     "output_type": "stream",
     "text": [
      "100%|██████████| 1000/1000 [29:15<00:00,  1.76s/it]\n"
     ]
    },
    {
     "data": {
      "image/png": "[encoded data removed]",
      "text/plain": [
       "<Figure size 432x288 with 1 Axes>"
      ]
     },
     "metadata": {
      "needs_background": "light"
     },
     "output_type": "display_data"
    }
   ],
   "source": [
    "import h5py\n",
    "import numpy as np\n",
    "import matplotlib.pyplot as plt\n",
    "import statsmodels.api as sm\n",
    "from tqdm import tqdm\n",
    "\n",
    "x = np.loadtxt('./data/template_eigenmodes/fsLR_32k_midthickness-lh_emode_200.txt') # (32492, 200)\n",
    "\n",
    "y_spin = np.load('./data/spin_test/subject_tfMRI_zstat_spin-lh.npy') # (1000, 32492)\n",
    "\n",
    "# remove the medial wall\n",
    "dirc_L = '/Users/deyingli/Documents/code/Atlas/metric_index_L.txt'\n",
    "select_ind_L = np.loadtxt( dirc_L ).astype(int)\n",
    "dirc_R = '/Users/deyingli/Documents/code/Atlas/metric_index_R.txt'\n",
    "select_ind_R = np.loadtxt( dirc_R ).astype(int)\n",
    "\n",
    "x = x[select_ind_L,:]\n",
    "\n",
    "corr_re = np.zeros(1000)\n",
    "for ii in tqdm(range(1000)):\n",
    "    y = np.squeeze(y_spin[ii,select_ind_L])[:, np.newaxis]\n",
    "    # GLM model\n",
    "    result = np.zeros((y.shape[1], x.shape[1]))\n",
    "    for v in range(x.shape[1]):\n",
    "        if v==0:\n",
    "            continue\n",
    "        if np.sum(x[:,v])==0:\n",
    "            result[:,v] = result[:,v-1]\n",
    "        else:\n",
    "            glm = sm.GLM(x[:,v], y)\n",
    "            glm_results = glm.fit()\n",
    "            result[:,v] = glm_results.params\n",
    "\n",
    "    # check the results\n",
    "    corr_re[ii] = np.corrcoef(np.squeeze(y), np.squeeze(np.dot(x,result.T)))[0,1]\n",
    "np.save('./data/spin_test/spin_1000_pearsonr', corr_re)\n",
    "\n",
    "plt.hist(corr_re)\n",
    "plt.show()"
   ]
  },
  {
   "cell_type": "code",
   "execution_count": 10,
   "metadata": {},
   "outputs": [
    {
     "data": {
      "image/png": "[encoded data removed]",
      "text/plain": [
       "<Figure size 432x288 with 1 Axes>"
      ]
     },
     "metadata": {
      "needs_background": "light"
     },
     "output_type": "display_data"
    }
   ],
   "source": [
    "plt.hist(corr_re, bins=100)\n",
    "plt.show()"
   ]
  },
  {
   "attachments": {},
   "cell_type": "markdown",
   "metadata": {},
   "source": [
    "# 在 Glasser 上计算：对公布数据进行拟合"
   ]
  },
  {
   "cell_type": "code",
   "execution_count": 20,
   "metadata": {},
   "outputs": [
    {
     "name": "stdout",
     "output_type": "stream",
     "text": [
      "(29696, 200) (29696, 1)\n"
     ]
    },
    {
     "name": "stderr",
     "output_type": "stream",
     "text": [
      "pixdim[1,2,3] should be non-zero; setting 0 dims to 1\n"
     ]
    },
    {
     "name": "stdout",
     "output_type": "stream",
     "text": [
      "the accuracy: 0.8562810518273458\n"
     ]
    },
    {
     "data": {
      "image/png": "[encoded data removed]",
      "text/plain": [
       "<Figure size 360x360 with 1 Axes>"
      ]
     },
     "metadata": {},
     "output_type": "display_data"
    }
   ],
   "source": [
    "import h5py\n",
    "import numpy as np\n",
    "import nibabel as nib\n",
    "import matplotlib.pyplot as plt\n",
    "import statsmodels.api as sm\n",
    "\n",
    "x = np.loadtxt('./data/template_eigenmodes/fsLR_32k_midthickness-lh_emode_200.txt') # (32492, 200)\n",
    "\n",
    "y = h5py.File('./data/examples/subject_tfMRI_zstat-lh.mat')\n",
    "y = np.squeeze(y['zstat'])[:, np.newaxis] # (32492,1)\n",
    "\n",
    "# remove the medial wall\n",
    "dirc_L = '/Users/deyingli/Documents/code/Atlas/metric_index_L.txt'\n",
    "select_ind_L = np.loadtxt( dirc_L ).astype(int)\n",
    "dirc_R = '/Users/deyingli/Documents/code/Atlas/metric_index_R.txt'\n",
    "select_ind_R = np.loadtxt( dirc_R ).astype(int)\n",
    "\n",
    "x = x[select_ind_L,:]\n",
    "y = y[select_ind_L,:]\n",
    "print(x.shape, y.shape)\n",
    "\n",
    "# GLM model\n",
    "result = np.zeros((y.shape[1], x.shape[1]))\n",
    "for v in range(x.shape[1]):\n",
    "    if v==0:\n",
    "        continue\n",
    "    if np.sum(x[:,v])==0:\n",
    "        result[:,v] = result[:,v-1]\n",
    "    else:\n",
    "        glm = sm.GLM(x[:,v], y)\n",
    "        glm_results = glm.fit()\n",
    "        result[:,v] = glm_results.params\n",
    "\n",
    "# calculate the accuracy on Glasser Atlas\n",
    "atlas_path = '/Users/deyingli/Documents/code/Atlas/Q1-Q6_RelatedValidation210.CorticalAreas_dil_Final_Final_Areas_Group_Colors.32k_fs_LR.dlabel.nii'\n",
    "atlas = nib.load(atlas_path)\n",
    "atlas_data = atlas.get_fdata()\n",
    "atlas_data = np.squeeze(atlas_data) #(59412,)\n",
    "roi_num = 360\n",
    "atlas_data_L = atlas_data[0:29696] -180\n",
    "y_atlas = np.squeeze(np.array([np.sum(y[atlas_data_L==(i+1)], axis=0)/len(np.argwhere(atlas_data_L==(i+1))) for i in range(180)]))\n",
    "_ = np.squeeze(np.dot(x,result.T))\n",
    "y_pred_atlas = np.squeeze(np.array([np.sum(_[atlas_data_L==(i+1)], axis=0)/len(np.argwhere(atlas_data_L==(i+1))) for i in range(180)]))\n",
    "\n",
    "# check the results\n",
    "print(f'the accuracy: {np.corrcoef(y_atlas, y_pred_atlas)[0,1]}')\n",
    "plt.subplots(figsize = (5, 5))\n",
    "plt.scatter(y_atlas, y_pred_atlas, c='black', s=2)\n",
    "plt.xticks([])\n",
    "plt.yticks([])\n",
    "plt.show()"
   ]
  },
  {
   "attachments": {},
   "cell_type": "markdown",
   "metadata": {},
   "source": [
    "# 对 Glasser 进行拟合"
   ]
  },
  {
   "cell_type": "code",
   "execution_count": 19,
   "metadata": {},
   "outputs": [
    {
     "name": "stderr",
     "output_type": "stream",
     "text": [
      "pixdim[1,2,3] should be non-zero; setting 0 dims to 1\n"
     ]
    },
    {
     "name": "stdout",
     "output_type": "stream",
     "text": [
      "(29696, 200) (29696, 1)\n"
     ]
    },
    {
     "name": "stderr",
     "output_type": "stream",
     "text": [
      "pixdim[1,2,3] should be non-zero; setting 0 dims to 1\n"
     ]
    },
    {
     "name": "stdout",
     "output_type": "stream",
     "text": [
      "the accuracy: 0.616635969253334\n"
     ]
    },
    {
     "data": {
      "image/png": "[encoded data removed]",
      "text/plain": [
       "<Figure size 360x360 with 1 Axes>"
      ]
     },
     "metadata": {},
     "output_type": "display_data"
    }
   ],
   "source": [
    "import h5py\n",
    "import numpy as np\n",
    "import nibabel as nib\n",
    "import matplotlib.pyplot as plt\n",
    "import statsmodels.api as sm\n",
    "\n",
    "x = np.loadtxt('./data/template_eigenmodes/fsLR_32k_midthickness-lh_emode_200.txt') # (32492, 200)\n",
    "\n",
    "atlas_path = '/Users/deyingli/Documents/code/Atlas/Q1-Q6_RelatedValidation210.CorticalAreas_dil_Final_Final_Areas_Group_Colors.32k_fs_LR.dlabel.nii'\n",
    "atlas = nib.load(atlas_path)\n",
    "atlas_data = atlas.get_fdata()\n",
    "atlas_data = np.squeeze(atlas_data) #(59412,)\n",
    "roi_num = 360\n",
    "y = np.zeros(32492)\n",
    "y[select_ind_L] = atlas_data[0:29696] -180\n",
    "y = y[:, np.newaxis]\n",
    "\n",
    "# remove the medial wall\n",
    "dirc_L = '/Users/deyingli/Documents/code/Atlas/metric_index_L.txt'\n",
    "select_ind_L = np.loadtxt( dirc_L ).astype(int)\n",
    "dirc_R = '/Users/deyingli/Documents/code/Atlas/metric_index_R.txt'\n",
    "select_ind_R = np.loadtxt( dirc_R ).astype(int)\n",
    "\n",
    "x = x[select_ind_L,:]\n",
    "y = y[select_ind_L,:]\n",
    "print(x.shape, y.shape)\n",
    "\n",
    "# GLM model\n",
    "result = np.zeros((y.shape[1], x.shape[1]))\n",
    "for v in range(x.shape[1]):\n",
    "    if v==0:\n",
    "        continue\n",
    "    if np.sum(x[:,v])==0:\n",
    "        result[:,v] = result[:,v-1]\n",
    "    else:\n",
    "        glm = sm.GLM(x[:,v], y)\n",
    "        glm_results = glm.fit()\n",
    "        result[:,v] = glm_results.params\n",
    "\n",
    "# calculate the accuracy on Glasser Atlas\n",
    "atlas_path = '/Users/deyingli/Documents/code/Atlas/Q1-Q6_RelatedValidation210.CorticalAreas_dil_Final_Final_Areas_Group_Colors.32k_fs_LR.dlabel.nii'\n",
    "atlas = nib.load(atlas_path)\n",
    "atlas_data = atlas.get_fdata()\n",
    "atlas_data = np.squeeze(atlas_data) #(59412,)\n",
    "roi_num = 360\n",
    "atlas_data_L = atlas_data[0:29696] -180\n",
    "y_atlas = np.squeeze(np.array([np.sum(y[atlas_data_L==(i+1)], axis=0)/len(np.argwhere(atlas_data_L==(i+1))) for i in range(180)]))\n",
    "_ = np.squeeze(np.dot(x,result.T))\n",
    "y_pred_atlas = np.squeeze(np.array([np.sum(_[atlas_data_L==(i+1)], axis=0)/len(np.argwhere(atlas_data_L==(i+1))) for i in range(180)]))\n",
    "\n",
    "# check the results\n",
    "print(f'the accuracy: {np.corrcoef(y_atlas, y_pred_atlas)[0,1]}')\n",
    "plt.subplots(figsize = (5, 5))\n",
    "plt.scatter(y_atlas, y_pred_atlas, c='black', s=2)\n",
    "plt.xticks([])\n",
    "plt.yticks([])\n",
    "plt.show()"
   ]
  },
  {
   "attachments": {},
   "cell_type": "markdown",
   "metadata": {},
   "source": [
    "# spin test: Glasser"
   ]
  },
  {
   "cell_type": "code",
   "execution_count": 21,
   "metadata": {},
   "outputs": [
    {
     "name": "stderr",
     "output_type": "stream",
     "text": [
      "100%|██████████| 1000/1000 [31:09<00:00,  1.87s/it]\n"
     ]
    },
    {
     "data": {
      "image/png": "[encoded data removed]",
      "text/plain": [
       "<Figure size 432x288 with 1 Axes>"
      ]
     },
     "metadata": {
      "needs_background": "light"
     },
     "output_type": "display_data"
    }
   ],
   "source": [
    "import h5py\n",
    "import numpy as np\n",
    "import matplotlib.pyplot as plt\n",
    "import statsmodels.api as sm\n",
    "from tqdm import tqdm\n",
    "\n",
    "x = np.loadtxt('./data/template_eigenmodes/fsLR_32k_midthickness-lh_emode_200.txt') # (32492, 200)\n",
    "y_spin = np.load('./data/spin_test/subject_tfMRI_zstat_spin-lh.npy') # (1000, 32492)\n",
    "\n",
    "# remove the medial wall\n",
    "dirc_L = '/Users/deyingli/Documents/code/Atlas/metric_index_L.txt'\n",
    "select_ind_L = np.loadtxt( dirc_L ).astype(int)\n",
    "dirc_R = '/Users/deyingli/Documents/code/Atlas/metric_index_R.txt'\n",
    "select_ind_R = np.loadtxt( dirc_R ).astype(int)\n",
    "\n",
    "x = x[select_ind_L,:]\n",
    "\n",
    "corr_re = np.zeros(1000)\n",
    "for ii in tqdm(range(1000)):\n",
    "    y = np.squeeze(y_spin[ii,select_ind_L])[:, np.newaxis]\n",
    "    # GLM model\n",
    "    result = np.zeros((y.shape[1], x.shape[1]))\n",
    "    for v in range(x.shape[1]):\n",
    "        if v==0:\n",
    "            continue\n",
    "        if np.sum(x[:,v])==0:\n",
    "            result[:,v] = result[:,v-1]\n",
    "        else:\n",
    "            glm = sm.GLM(x[:,v], y)\n",
    "            glm_results = glm.fit()\n",
    "            result[:,v] = glm_results.params\n",
    "\n",
    "    # check the results\n",
    "    y_atlas = np.squeeze(np.array([np.sum(y[atlas_data_L==(i+1)], axis=0)/len(np.argwhere(atlas_data_L==(i+1))) for i in range(180)]))\n",
    "    _ = np.squeeze(np.dot(x,result.T))\n",
    "    y_pred_atlas = np.squeeze(np.array([np.sum(_[atlas_data_L==(i+1)], axis=0)/len(np.argwhere(atlas_data_L==(i+1))) for i in range(180)]))\n",
    "    corr_re[ii] = np.corrcoef(y_atlas, y_pred_atlas)[0,1]\n",
    "\n",
    "np.save('./data/spin_test/spin_Glasser_1000_pearsonr', corr_re)\n",
    "\n",
    "plt.hist(corr_re, bins=100)\n",
    "plt.show()"
   ]
  },
  {
   "cell_type": "code",
   "execution_count": 15,
   "metadata": {},
   "outputs": [
    {
     "data": {
      "image/png": "[encoded data removed]",
      "text/plain": [
       "<Figure size 432x288 with 1 Axes>"
      ]
     },
     "metadata": {
      "needs_background": "light"
     },
     "output_type": "display_data"
    },
    {
     "data": {
      "image/png": "[encoded data removed]",
      "text/plain": [
       "<Figure size 432x288 with 1 Axes>"
      ]
     },
     "metadata": {
      "needs_background": "light"
     },
     "output_type": "display_data"
    }
   ],
   "source": [
    "import pandas as pd\n",
    "import seaborn as sns\n",
    "import matplotlib.pyplot as plt\n",
    "\n",
    "y = h5py.File('./data/examples/subject_tfMRI_zstat-lh.mat')\n",
    "y = np.squeeze(y['zstat'])[:, np.newaxis] # (32492,1)\n",
    "# from matplotlib import font_manager\n",
    "# font_manager.fontManager.addfont(\"/n02dat01/users/lchai/anaconda3/envs/Nm/lib/python3.8/site-packages/matplotlib/mpl-data/fonts/ttf/arial.ttf\")\n",
    "# plt.rcParams[\"font.sans-serif\"] = \"Arial\" \n",
    "\n",
    "palette = ['#FFD3D4', '#C0CFFE', '#D6FED3']\n",
    "corr_re = np.load('./data/spin_test/spin_Glasser_1000_pearsonr.npy')\n",
    "df = pd.DataFrame({'Glasser':corr_re})\n",
    "sns.histplot(data=df, x=f'Glasser', bins=100, kde=True,\n",
    "            color=palette[0], alpha=0.7, edgecolor=\"white\")\n",
    "sns.despine(top=True, right=True)\n",
    "\n",
    "plt.axvline(x=0.86, color='grey', linestyle='dashed')\n",
    "\n",
    "# plt.xlim(-50, 60)\n",
    "plt.ylabel('Pearson r', fontsize=20)\n",
    "plt.yticks([])\n",
    "plt.xticks(fontsize=20)\n",
    "# plt.xlabel(f'CG{gg+1}-DV', fontsize=20)\n",
    "# plt.savefig(f'/n02dat01/users/dyli/Grad_code/gene_z_G{gg+1}.png', transparent = True, bbox_inches = 'tight',dpi = 700)\n",
    "plt.show()\n",
    "\n",
    "corr_re = np.load('./data/spin_test/spin_1000_pearsonr.npy')\n",
    "df = pd.DataFrame({'Vertex':corr_re})\n",
    "sns.histplot(data=df, x=f'Vertex', bins=100, kde=True,\n",
    "            color=palette[0], alpha=0.7, edgecolor=\"white\")\n",
    "sns.despine(top=True, right=True)\n",
    "\n",
    "plt.axvline(x=0.642, color='grey', linestyle='dashed')\n",
    "\n",
    "# plt.xlim(-50, 60)\n",
    "plt.ylabel('Pearson r', fontsize=20)\n",
    "plt.yticks([])\n",
    "plt.xticks(fontsize=20)\n",
    "# plt.xlabel(f'CG{gg+1}-DV', fontsize=20)\n",
    "# plt.savefig(f'/n02dat01/users/dyli/Grad_code/gene_z_G{gg+1}.png', transparent = True, bbox_inches = 'tight',dpi = 700)\n",
    "plt.show()"
   ]
  },
  {
   "attachments": {},
   "cell_type": "markdown",
   "metadata": {},
   "source": [
    "# myelin"
   ]
  },
  {
   "cell_type": "code",
   "execution_count": 27,
   "metadata": {},
   "outputs": [],
   "source": [
    "from nilearn import image, surface, plotting, datasets\n",
    "\n",
    "list_path = './data/examples/HCPsubj_with_Myelin.txt'\n",
    "with open( list_path, 'r' ) as f:\n",
    "    namelist = [ str( line.strip()) for line in f.readlines() ]\n",
    "\n",
    "myelin = np.zeros(32492)\n",
    "for sub in namelist:\n",
    "    data = surface.load_surf_data(f'./data/examples/myelin/{sub}_L.func.gii')\n",
    "    myelin = myelin + data\n",
    "np.save('./data/examples/myelin_sum', myelin/len(namelist))"
   ]
  },
  {
   "cell_type": "code",
   "execution_count": 10,
   "metadata": {},
   "outputs": [
    {
     "name": "stderr",
     "output_type": "stream",
     "text": [
      "/var/folders/r8/29278rpn46g7v58724jqrkl80000gn/T/ipykernel_22445/532610435.py:25: DeprecationWarning: get_data() is deprecated in favor of get_fdata(), which has a more predictable return type. To obtain get_data() behavior going forward, use numpy.asanyarray(img.dataobj).\n",
      "\n",
      "* deprecated from version: 3.0\n",
      "* Will raise <class 'nibabel.deprecator.ExpiredDeprecationError'> as of version: 5.0\n",
      "  myelin = np.squeeze(myelin.get_data()) # (59412,)\n",
      "/Users/deyingli/miniconda3/envs/pytorch/lib/python3.8/site-packages/brainspace-0.1.3-py3.8.egg/brainspace/plotting/surface_plotting.py:427: RuntimeWarning: Running plot_hemispheres without a display may result in a crash. For a workaround please consult https://github.com/MICA-MNI/BrainSpace/issues/66. To suppress this warning set suppress_warnings=True.\n",
      "  warnings.warn(\n",
      "/Users/deyingli/miniconda3/envs/pytorch/lib/python3.8/site-packages/brainspace-0.1.3-py3.8.egg/brainspace/plotting/utils.py:303: RuntimeWarning: All-NaN axis encountered\n",
      "  a, b = np.nanmin(x), np.nanmax(x)\n",
      "/Users/deyingli/miniconda3/envs/pytorch/lib/python3.8/site-packages/brainspace-0.1.3-py3.8.egg/brainspace/plotting/base.py:292: UserWarning: Support for interactive mode is only provided for a single renderer: 'nrow=1' and 'ncol=1'. Setting 'interactive=False'\n",
      "  warnings.warn(\"Support for interactive mode is only provided for \"\n"
     ]
    }
   ],
   "source": [
    "from brainspace.plotting import plot_hemispheres\n",
    "from brainspace.datasets import load_conte69\n",
    "from brainspace.mesh.mesh_io import read_surface\n",
    "import nibabel as nib\n",
    "import numpy as np\n",
    "import h5py\n",
    "from matplotlib.colors import LinearSegmentedColormap\n",
    "\n",
    "import os\n",
    "from tqdm import tqdm\n",
    "import IPython\n",
    "from IPython.core.display import Image as image\n",
    "from PIL import Image\n",
    "\n",
    "surf_lh, surf_rh = load_conte69()\n",
    "surf_lh2 = read_surface('/Users/deyingli/Documents/code/Grad_2022/data_tmp/support_data/human/S1200.L.midthickness_MSMAll.32k_fs_LR.surf.gii')\n",
    "surf_rh2 = read_surface('/Users/deyingli/Documents/code/Grad_2022/data_tmp/support_data/human/S1200.R.midthickness_MSMAll.32k_fs_LR.surf.gii')\n",
    "\n",
    "hroi_L = nib.load('/Users/deyingli/Documents/code/Grad_2022/data_tmp/support_data/100307.L.atlasroi.32k_fs_LR.shape.gii')\n",
    "index_L = hroi_L.agg_data()\n",
    "hroi_R = nib.load('/Users/deyingli/Documents/code/Grad_2022/data_tmp/support_data/100307.R.atlasroi.32k_fs_LR.shape.gii')\n",
    "index_R = hroi_R.agg_data()\n",
    "\n",
    "myelin = nib.load('./data/examples/S1200.SmoothedMyelinMap_BC_MSMAll.32k_fs_LR.dscalar.nii')\n",
    "myelin = np.squeeze(myelin.get_data()) # (59412,)\n",
    "y = np.zeros(32492)\n",
    "y[index_L !=0] = myelin[0:29696]\n",
    "y[index_L ==0] = np.nan\n",
    "data = np.concatenate((y, np.zeros(32492)), axis=0)\n",
    "data[32492:] = np.nan\n",
    "\n",
    "obj = plot_hemispheres(surf_lh2, surf_rh2, data, color_bar=True, label_text=['subject_tfMRI_zstat-lh'], nan_color=(0.6,0.6,0.6,1), background=(1,1,1), embed_nb=True, cmap='viridis', transparent_bg=True, size=(2000,500)) # viridis\n",
    "with open(os.path.join(f'/Users/deyingli/Documents/code/BrainEigenmodes/figures/mylin-yf.png'), 'wb') as png:\n",
    "    png.write(obj.data)\n",
    "\n",
    "# haiyan myelin\n",
    "y = np.load('./data/examples/myelin_sum.npy') # (32492,)\n",
    "y[index_L==0] = np.nan\n",
    "data = np.concatenate((y, np.zeros(32492)), axis=0)\n",
    "data[32492:] = np.nan\n",
    "\n",
    "obj = plot_hemispheres(surf_lh2, surf_rh2, data, color_bar=True, label_text=['subject_tfMRI_zstat-lh'], nan_color=(0.6,0.6,0.6,1), background=(1,1,1), embed_nb=True, cmap='viridis', transparent_bg=True, size=(2000,500)) # viridis\n",
    "with open(os.path.join(f'/Users/deyingli/Documents/code/BrainEigenmodes/figures/mylin-haiyan.png'), 'wb') as png:\n",
    "    png.write(obj.data)"
   ]
  },
  {
   "cell_type": "code",
   "execution_count": 13,
   "metadata": {},
   "outputs": [
    {
     "name": "stderr",
     "output_type": "stream",
     "text": [
      "/var/folders/r8/29278rpn46g7v58724jqrkl80000gn/T/ipykernel_22445/2985579833.py:12: DeprecationWarning: get_data() is deprecated in favor of get_fdata(), which has a more predictable return type. To obtain get_data() behavior going forward, use numpy.asanyarray(img.dataobj).\n",
      "\n",
      "* deprecated from version: 3.0\n",
      "* Will raise <class 'nibabel.deprecator.ExpiredDeprecationError'> as of version: 5.0\n",
      "  y = np.squeeze(y.get_data())[0:29696, np.newaxis] # (59412,)\n"
     ]
    },
    {
     "name": "stdout",
     "output_type": "stream",
     "text": [
      "(29696, 200) (29696, 1)\n"
     ]
    },
    {
     "name": "stderr",
     "output_type": "stream",
     "text": [
      "pixdim[1,2,3] should be non-zero; setting 0 dims to 1\n"
     ]
    },
    {
     "name": "stdout",
     "output_type": "stream",
     "text": [
      "the accuracy: 0.3546996556372025\n"
     ]
    },
    {
     "data": {
      "image/png": "[encoded data removed]",
      "text/plain": [
       "<Figure size 360x360 with 1 Axes>"
      ]
     },
     "metadata": {},
     "output_type": "display_data"
    }
   ],
   "source": [
    "from nilearn import image, surface, plotting, datasets\n",
    "import h5py\n",
    "import numpy as np\n",
    "import nibabel as nib\n",
    "import matplotlib.pyplot as plt\n",
    "import statsmodels.api as sm\n",
    "\n",
    "x = np.loadtxt('./data/template_eigenmodes/fsLR_32k_midthickness-lh_emode_200.txt') # (32492, 200)\n",
    "\n",
    "# yf\n",
    "y = nib.load('./data/examples/S1200.SmoothedMyelinMap_BC_MSMAll.32k_fs_LR.dscalar.nii')\n",
    "y = np.squeeze(y.get_data())[0:29696, np.newaxis] # (59412,)\n",
    "# haiyan\n",
    "# y = np.load('./data/examples/myelin_sum.npy') # (32492,)\n",
    "# y = y[:,np.newaxis]\n",
    "\n",
    "# remove the medial wall\n",
    "dirc_L = '/Users/deyingli/Documents/code/Atlas/metric_index_L.txt'\n",
    "select_ind_L = np.loadtxt( dirc_L ).astype(int)\n",
    "dirc_R = '/Users/deyingli/Documents/code/Atlas/metric_index_R.txt'\n",
    "select_ind_R = np.loadtxt( dirc_R ).astype(int)\n",
    "\n",
    "x = x[select_ind_L,:]\n",
    "# y = y[select_ind_L,:]\n",
    "print(x.shape, y.shape)\n",
    "\n",
    "# GLM model\n",
    "result = np.zeros((y.shape[1], x.shape[1]))\n",
    "for v in range(x.shape[1]):\n",
    "    if v==0:\n",
    "        continue\n",
    "    if np.sum(x[:,v])==0:\n",
    "        result[:,v] = result[:,v-1]\n",
    "    else:\n",
    "        glm = sm.GLM(x[:,v], y)\n",
    "        glm_results = glm.fit()\n",
    "        result[:,v] = glm_results.params\n",
    "\n",
    "# calculate the accuracy on Glasser Atlas\n",
    "atlas_path = '/Users/deyingli/Documents/code/Atlas/Q1-Q6_RelatedValidation210.CorticalAreas_dil_Final_Final_Areas_Group_Colors.32k_fs_LR.dlabel.nii'\n",
    "atlas = nib.load(atlas_path)\n",
    "atlas_data = atlas.get_fdata()\n",
    "atlas_data = np.squeeze(atlas_data) #(59412,)\n",
    "roi_num = 360\n",
    "atlas_data_L = atlas_data[0:29696] -180\n",
    "y_atlas = np.squeeze(np.array([np.sum(y[atlas_data_L==(i+1)], axis=0)/len(np.argwhere(atlas_data_L==(i+1))) for i in range(180)]))\n",
    "_ = np.squeeze(np.dot(x,result.T))\n",
    "y_pred_atlas = np.squeeze(np.array([np.sum(_[atlas_data_L==(i+1)], axis=0)/len(np.argwhere(atlas_data_L==(i+1))) for i in range(180)]))\n",
    "\n",
    "# check the results\n",
    "print(f'the accuracy: {np.corrcoef(y_atlas, y_pred_atlas)[0,1]}')\n",
    "plt.subplots(figsize = (5, 5))\n",
    "plt.scatter(y_atlas, y_pred_atlas, c='black', s=2)\n",
    "plt.xticks([])\n",
    "plt.yticks([])\n",
    "plt.show()"
   ]
  },
  {
   "attachments": {},
   "cell_type": "markdown",
   "metadata": {},
   "source": [
    "# face"
   ]
  },
  {
   "cell_type": "code",
   "execution_count": 30,
   "metadata": {},
   "outputs": [
    {
     "name": "stdout",
     "output_type": "stream",
     "text": [
      "1\n"
     ]
    }
   ],
   "source": [
    "from nilearn import image, surface, plotting, datasets\n",
    "\n",
    "list_path = './data/examples/HCP_with_EMOTION.txt'\n",
    "with open( list_path, 'r' ) as f:\n",
    "    namelist = [ str( line.strip()) for line in f.readlines() ]\n",
    "\n",
    "myelin = np.zeros(32492)\n",
    "i=0\n",
    "for sub in namelist:\n",
    "    if os.path.exists(f'./data/examples/EMOTION_FACES_s2/{sub}_L.func.gii'):\n",
    "        data = surface.load_surf_data(f'./data/examples/EMOTION_FACES_s2/{sub}_L.func.gii')\n",
    "        myelin = myelin + data\n",
    "    else:\n",
    "        i +=1\n",
    "np.save('./data/examples/emotion_face_s2_sum', myelin/(len(namelist)-i))\n",
    "print(i)"
   ]
  },
  {
   "cell_type": "code",
   "execution_count": 31,
   "metadata": {},
   "outputs": [
    {
     "name": "stdout",
     "output_type": "stream",
     "text": [
      "(29696, 200) (29696, 1)\n"
     ]
    },
    {
     "name": "stderr",
     "output_type": "stream",
     "text": [
      "pixdim[1,2,3] should be non-zero; setting 0 dims to 1\n"
     ]
    },
    {
     "name": "stdout",
     "output_type": "stream",
     "text": [
      "the accuracy: 0.9455203217074544\n"
     ]
    },
    {
     "data": {
      "image/png": "[encoded data removed]",
      "text/plain": [
       "<Figure size 360x360 with 1 Axes>"
      ]
     },
     "metadata": {},
     "output_type": "display_data"
    }
   ],
   "source": [
    "from nilearn import image, surface, plotting, datasets\n",
    "import h5py\n",
    "import numpy as np\n",
    "import nibabel as nib\n",
    "import matplotlib.pyplot as plt\n",
    "import statsmodels.api as sm\n",
    "\n",
    "x = np.loadtxt('./data/template_eigenmodes/fsLR_32k_midthickness-lh_emode_200.txt') # (32492, 200)\n",
    "\n",
    "y = np.load('./data/examples/emotion_face_s2_sum.npy') # (32492,)\n",
    "y = y[:,np.newaxis]\n",
    "\n",
    "# remove the medial wall\n",
    "dirc_L = '/Users/deyingli/Documents/code/Atlas/metric_index_L.txt'\n",
    "select_ind_L = np.loadtxt( dirc_L ).astype(int)\n",
    "dirc_R = '/Users/deyingli/Documents/code/Atlas/metric_index_R.txt'\n",
    "select_ind_R = np.loadtxt( dirc_R ).astype(int)\n",
    "\n",
    "x = x[select_ind_L,:]\n",
    "y = y[select_ind_L,:]\n",
    "print(x.shape, y.shape)\n",
    "\n",
    "# GLM model\n",
    "result = np.zeros((y.shape[1], x.shape[1]))\n",
    "for v in range(x.shape[1]):\n",
    "    if v==0:\n",
    "        continue\n",
    "    if np.sum(x[:,v])==0:\n",
    "        result[:,v] = result[:,v-1]\n",
    "    else:\n",
    "        glm = sm.GLM(x[:,v], y)\n",
    "        glm_results = glm.fit()\n",
    "        result[:,v] = glm_results.params\n",
    "\n",
    "# calculate the accuracy on Glasser Atlas\n",
    "atlas_path = '/Users/deyingli/Documents/code/Atlas/Q1-Q6_RelatedValidation210.CorticalAreas_dil_Final_Final_Areas_Group_Colors.32k_fs_LR.dlabel.nii'\n",
    "atlas = nib.load(atlas_path)\n",
    "atlas_data = atlas.get_fdata()\n",
    "atlas_data = np.squeeze(atlas_data) #(59412,)\n",
    "roi_num = 360\n",
    "atlas_data_L = atlas_data[0:29696] -180\n",
    "y_atlas = np.squeeze(np.array([np.sum(y[atlas_data_L==(i+1)], axis=0)/len(np.argwhere(atlas_data_L==(i+1))) for i in range(180)]))\n",
    "_ = np.squeeze(np.dot(x,result.T))\n",
    "y_pred_atlas = np.squeeze(np.array([np.sum(_[atlas_data_L==(i+1)], axis=0)/len(np.argwhere(atlas_data_L==(i+1))) for i in range(180)]))\n",
    "\n",
    "# check the results\n",
    "print(f'the accuracy: {np.corrcoef(y_atlas, y_pred_atlas)[0,1]}')\n",
    "plt.subplots(figsize = (5, 5))\n",
    "plt.scatter(y_atlas, y_pred_atlas, c='black', s=2)\n",
    "plt.xticks([])\n",
    "plt.yticks([])\n",
    "plt.show()"
   ]
  },
  {
   "attachments": {},
   "cell_type": "markdown",
   "metadata": {},
   "source": [
    "# face: spin test"
   ]
  },
  {
   "cell_type": "code",
   "execution_count": 34,
   "metadata": {},
   "outputs": [],
   "source": [
    "from brainsmash.mapgen.sampled import Sampled\n",
    "from brainsmash.mapgen.memmap import txt2memmap\n",
    "\n",
    "Sur_num = 1000\n",
    "\n",
    "Sur_father = './data/spin_test'\n",
    "dist_mat_fin = f'{Sur_father}/LeftDenseGeodesicDistmat.txt'\n",
    "output_files = txt2memmap(dist_mat_fin, Sur_father, maskfile=None, delimiter=' ')\n",
    "output_files = {'distmat': f'{Sur_father}/distmat.npy',\n",
    "                'index': f'{Sur_father}/index.npy'}\n",
    "# distmat: (32492, 32492) index: (32492, 32492)\n",
    "\n",
    "# 读取 tfmri map 数据\n",
    "tfmri_map = np.load('./data/examples/emotion_face_s2_sum.npy')\n",
    "tfmri_map[select_ind_L] = tfmri_map[select_ind_L]\n",
    "np.savetxt(f'{Sur_father}/emotion_face_s2_sum.txt', X=tfmri_map, delimiter=' ')\n",
    "\n",
    "brain_map_file = f'{Sur_father}/emotion_face_s2_sum.txt'\n",
    "dist_mat_mmap = output_files['distmat']\n",
    "index_mmap = output_files['index']\n",
    "sampled = Sampled(brain_map_file, dist_mat_mmap, index_mmap)\n",
    "\n",
    "surrogates = sampled(n=1000) # (1000, 32492)\n",
    "np.save(f'{Sur_father}/emotion_face_s2_sum_spin', surrogates)"
   ]
  },
  {
   "cell_type": "code",
   "execution_count": 40,
   "metadata": {},
   "outputs": [
    {
     "name": "stderr",
     "output_type": "stream",
     "text": [
      "100%|██████████| 1000/1000 [27:21<00:00,  1.64s/it]\n"
     ]
    },
    {
     "ename": "",
     "evalue": "",
     "output_type": "error",
     "traceback": [
      "\u001b[1;31mThe Kernel crashed while executing code in the the current cell or a previous cell. Please review the code in the cell(s) to identify a possible cause of the failure. Click <a href='https://aka.ms/vscodeJupyterKernelCrash'>here</a> for more info. View Jupyter <a href='command:jupyter.viewOutput'>log</a> for further details."
     ]
    }
   ],
   "source": [
    "import h5py\n",
    "import numpy as np\n",
    "import matplotlib.pyplot as plt\n",
    "import statsmodels.api as sm\n",
    "from tqdm import tqdm\n",
    "\n",
    "x = np.loadtxt('./data/template_eigenmodes/fsLR_32k_midthickness-lh_emode_200.txt') # (32492, 200)\n",
    "y_spin = np.load('./data/spin_test/emotion_face_s2_sum_spin.npy') # (1000, 32492)\n",
    "\n",
    "# remove the medial wall\n",
    "dirc_L = '/Users/deyingli/Documents/code/Atlas/metric_index_L.txt'\n",
    "select_ind_L = np.loadtxt( dirc_L ).astype(int)\n",
    "dirc_R = '/Users/deyingli/Documents/code/Atlas/metric_index_R.txt'\n",
    "select_ind_R = np.loadtxt( dirc_R ).astype(int)\n",
    "\n",
    "x = x[select_ind_L,:]\n",
    "\n",
    "corr_re = np.zeros(1000)\n",
    "for ii in tqdm(range(1000)):\n",
    "    y = np.squeeze(y_spin[ii,select_ind_L])[:, np.newaxis]\n",
    "    # GLM model\n",
    "    result = np.zeros((y.shape[1], x.shape[1]))\n",
    "    for v in range(x.shape[1]):\n",
    "        if v==0:\n",
    "            continue\n",
    "        if np.sum(x[:,v])==0:\n",
    "            result[:,v] = result[:,v-1]\n",
    "        else:\n",
    "            glm = sm.GLM(x[:,v], y)\n",
    "            glm_results = glm.fit()\n",
    "            result[:,v] = glm_results.params\n",
    "\n",
    "    # check the results\n",
    "    y_atlas = np.squeeze(np.array([np.sum(y[atlas_data_L==(i+1)], axis=0)/len(np.argwhere(atlas_data_L==(i+1))) for i in range(180)]))\n",
    "    _ = np.squeeze(np.dot(x,result.T))\n",
    "    y_pred_atlas = np.squeeze(np.array([np.sum(_[atlas_data_L==(i+1)], axis=0)/len(np.argwhere(atlas_data_L==(i+1))) for i in range(180)]))\n",
    "    corr_re[ii] = np.corrcoef(y_atlas, y_pred_atlas)[0,1]\n",
    "\n",
    "np.save('./data/spin_test/emotion_face_s2_sum_spin_Glasser_1000_pearsonr', corr_re)"
   ]
  },
  {
   "cell_type": "code",
   "execution_count": 14,
   "metadata": {},
   "outputs": [
    {
     "data": {
      "image/png": "[encoded data removed]",
      "text/plain": [
       "<Figure size 432x288 with 1 Axes>"
      ]
     },
     "metadata": {
      "needs_background": "light"
     },
     "output_type": "display_data"
    }
   ],
   "source": [
    "import pandas as pd\n",
    "import numpy as np\n",
    "import seaborn as sns\n",
    "import matplotlib.pyplot as plt\n",
    "# from matplotlib import font_manager\n",
    "# font_manager.fontManager.addfont(\"/n02dat01/users/lchai/anaconda3/envs/Nm/lib/python3.8/site-packages/matplotlib/mpl-data/fonts/ttf/arial.ttf\")\n",
    "# plt.rcParams[\"font.sans-serif\"] = \"Arial\" \n",
    "\n",
    "palette = ['#FFD3D4', '#C0CFFE', '#D6FED3']\n",
    "corr_re = np.load('./data/spin_test/emotion_face_s2_sum_spin_Glasser_1000_pearsonr.npy')\n",
    "df = pd.DataFrame({'Glasser':corr_re})\n",
    "sns.histplot(data=df, x=f'Glasser', bins=50, kde=True,\n",
    "            color=palette[0], alpha=0.7, edgecolor=\"white\")\n",
    "sns.despine(top=True, right=True)\n",
    "\n",
    "plt.axvline(x=0.90, color='grey', linestyle='dashed')\n",
    "\n",
    "# plt.xlim(-50, 60)\n",
    "plt.ylabel('Pearson r', fontsize=20)\n",
    "plt.yticks([])\n",
    "plt.xticks(fontsize=20)\n",
    "# plt.xlabel(f'CG{gg+1}-DV', fontsize=20)\n",
    "# plt.savefig(f'/n02dat01/users/dyli/Grad_code/gene_z_G{gg+1}.png', transparent = True, bbox_inches = 'tight',dpi = 700)\n",
    "plt.show()"
   ]
  }
 ],
 "metadata": {
  "kernelspec": {
   "display_name": "Python 3",
   "language": "python",
   "name": "python3"
  },
  "language_info": {
   "codemirror_mode": {
    "name": "ipython",
    "version": 3
   },
   "file_extension": ".py",
   "mimetype": "text/x-python",
   "name": "python",
   "nbconvert_exporter": "python",
   "pygments_lexer": "ipython3",
   "version": "3.8.12"
  },
  "orig_nbformat": 4
 },
 "nbformat": 4,
 "nbformat_minor": 2
}
